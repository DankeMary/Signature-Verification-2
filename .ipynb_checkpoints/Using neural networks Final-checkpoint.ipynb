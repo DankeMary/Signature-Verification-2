{
 "cells": [
  {
   "cell_type": "code",
   "execution_count": 2,
   "metadata": {
    "collapsed": true
   },
   "outputs": [],
   "source": [
    "import tensorflow as tf\n",
    "import pandas as pd\n",
    "import numpy as np\n",
    "from time import time"
   ]
  },
  {
   "cell_type": "code",
   "execution_count": 3,
   "metadata": {
    "collapsed": true
   },
   "outputs": [],
   "source": [
    "train_path = \"data/Features/Training/training_001.csv\"\n",
    "test_path = \"data/TestFeatures/testcsv.csv\"\n",
    "n_input = 9 # no. of features per file"
   ]
  },
  {
   "cell_type": "markdown",
   "metadata": {},
   "source": [
    "#### ReadCSV will read the sev files at train_path and test_path and return things we need."
   ]
  },
  {
   "cell_type": "code",
   "execution_count": 4,
   "metadata": {
    "collapsed": true
   },
   "outputs": [],
   "source": [
    "def readCSV(train_path, test_path, type2=False):\n",
    "    # Reading train data\n",
    "    df = pd.read_csv(train_path, usecols=range(n_input))\n",
    "    train_input = np.array(df.values)\n",
    "    train_input = train_input.astype(np.float32, copy=False)  # Converting input to float_32\n",
    "    df = pd.read_csv(train_path, usecols=(n_input,))\n",
    "    temp = [elem[0] for elem in df.values]\n",
    "    correct = np.array(temp)\n",
    "    corr_train = np.eye(2)[correct]      # Converting to one hot\n",
    "    # Reading test data\n",
    "    df = pd.read_csv(test_path, usecols=range(n_input))\n",
    "    test_input = np.array(df.values)\n",
    "    test_input = test_input.astype(np.float32, copy=False)\n",
    "    if not(type2):\n",
    "        df = pd.read_csv(test_path, usecols=(n_input,))\n",
    "        temp = [elem[0] for elem in df.values]\n",
    "        correct = np.array(temp)\n",
    "        corr_test = np.eye(2)[correct]      # Converting to one hot\n",
    "    if not(type2):\n",
    "        return train_input, corr_train, test_input, corr_test\n",
    "    else:\n",
    "        return train_input, corr_train, test_input"
   ]
  },
  {
   "cell_type": "markdown",
   "metadata": {},
   "source": [
    "#### Setting up our multi layer perceptron. Note that we are using softmax in the end to convert our output in probabilities."
   ]
  },
  {
   "cell_type": "code",
   "execution_count": 5,
   "metadata": {
    "collapsed": false
   },
   "outputs": [],
   "source": [
    "tf.reset_default_graph()\n",
    "# Parameters\n",
    "learning_rate = 0.001\n",
    "training_epochs = 1000\n",
    "display_step = 1\n",
    "\n",
    "# Network Parameters\n",
    "n_hidden_1 = 7 # 1st layer number of neurons\n",
    "# n_hidden_2 = 10 # 2nd layer number of neurons\n",
    "# n_hidden_3 = 30 # 3rd layer\n",
    "n_classes = 2 # no. of classes (genuine or forged)\n",
    "\n",
    "# tf Graph input\n",
    "X = tf.placeholder(\"float\", [None, n_input])\n",
    "Y = tf.placeholder(\"float\", [None, n_classes])\n",
    "\n",
    "# Store layers weight & bias\n",
    "weights = {\n",
    "    'h1': tf.Variable(tf.random_normal([n_input, n_hidden_1], seed=1)),\n",
    "#     'h2': tf.Variable(tf.random_normal([n_hidden_1, n_hidden_2])),\n",
    "#     'h3': tf.Variable(tf.random_normal([n_hidden_2, n_hidden_3])),\n",
    "    'out': tf.Variable(tf.random_normal([n_hidden_1, n_classes], seed=2))\n",
    "}\n",
    "biases = {\n",
    "    'b1': tf.Variable(tf.random_normal([n_hidden_1], seed=3)),\n",
    "#     'b2': tf.Variable(tf.random_normal([n_hidden_2])),\n",
    "#     'b3': tf.Variable(tf.random_normal([n_hidden_3])),\n",
    "    'out': tf.Variable(tf.random_normal([n_classes], seed=4))\n",
    "}\n",
    "\n",
    "\n",
    "# Create model\n",
    "def multilayer_perceptron(x):\n",
    "    layer_1 = tf.tanh((tf.matmul(x, weights['h1']) + biases['b1']))\n",
    "#     layer_2 = tf.add(tf.matmul(layer_1, weights['h2']), biases['b2'])\n",
    "#     layer_3 = tf.add(tf.matmul(layer_2, weights['h3']), biases['b3'])\n",
    "    out_layer = tf.tanh(tf.matmul(layer_1, weights['out']) + biases['out'])\n",
    "    return out_layer\n",
    "\n",
    "# Construct model\n",
    "logits = multilayer_perceptron(X)\n",
    "\n",
    "# Define loss and optimizer\n",
    "\n",
    "loss_op = tf.reduce_mean(tf.squared_difference(logits, Y))\n",
    "optimizer = tf.train.AdamOptimizer(learning_rate=learning_rate)\n",
    "train_op = optimizer.minimize(loss_op)\n",
    "# For accuracies\n",
    "pred = tf.nn.softmax(logits)  # Apply softmax to logits\n",
    "correct_prediction = tf.equal(tf.argmax(pred,1), tf.argmax(Y,1))\n",
    "accuracy = tf.reduce_mean(tf.cast(correct_prediction, tf.float32))\n",
    "# Initializing the variables\n",
    "init = tf.global_variables_initializer()"
   ]
  },
  {
   "cell_type": "markdown",
   "metadata": {},
   "source": [
    "#### Given a train_path and test_path, evaluate will first train our model on trainingdata, then test on testingdata to final give accuracy over both."
   ]
  },
  {
   "cell_type": "code",
   "execution_count": 6,
   "metadata": {
    "collapsed": false
   },
   "outputs": [],
   "source": [
    "def evaluate(train_path, test_path, type2=False):   \n",
    "    if not(type2):\n",
    "        train_input, corr_train, test_input, corr_test = readCSV(train_path, test_path)\n",
    "    else:\n",
    "        train_input, corr_train, test_input = readCSV(train_path, test_path, type2)\n",
    "    ans = 'Random'\n",
    "    with tf.Session() as sess:\n",
    "        sess.run(init)\n",
    "        # Training cycle\n",
    "        for epoch in range(training_epochs):\n",
    "            # Run optimization op (backprop) and cost op (to get loss value)\n",
    "            _, cost = sess.run([train_op, loss_op], feed_dict={X: train_input, Y: corr_train})\n",
    "            if cost<0.0001:\n",
    "                break\n",
    "#             # Display logs per epoch step\n",
    "#             if epoch % 999 == 0:\n",
    "#                 print(\"Epoch:\", '%04d' % (epoch+1), \"cost={:.9f}\".format(cost))\n",
    "#         print(\"Optimization Finished!\")\n",
    "        \n",
    "        # Finding accuracies\n",
    "        accuracy1 =  accuracy.eval({X: train_input, Y: corr_train})\n",
    "#         print(\"Accuracy for train:\", accuracy1)\n",
    "#         print(\"Accuracy for test:\", accuracy2)\n",
    "        if type2 is False:\n",
    "            accuracy2 =  accuracy.eval({X: test_input, Y: corr_test})\n",
    "            return accuracy1, accuracy2\n",
    "        else:\n",
    "            prediction = pred.eval({X: test_input})\n",
    "            if prediction[0][1]>prediction[0][0]:\n",
    "                print('Genuine Image')\n",
    "                return True\n",
    "            else:\n",
    "                print('Forged Image')\n",
    "                return False"
   ]
  },
  {
   "cell_type": "code",
   "execution_count": 7,
   "metadata": {
    "collapsed": false
   },
   "outputs": [
    {
     "name": "stdout",
     "output_type": "stream",
     "text": [
      "Genuine Image\n"
     ]
    },
    {
     "data": {
      "text/plain": [
       "True"
      ]
     },
     "execution_count": 7,
     "metadata": {},
     "output_type": "execute_result"
    }
   ],
   "source": [
    "evaluate(train_path, test_path, type2=True)"
   ]
  },
  {
   "cell_type": "markdown",
   "metadata": {},
   "source": [
    "#### TrainAndTest function is to provide custom parameters for model and then give accuracies for each person in the dataset."
   ]
  },
  {
   "cell_type": "code",
   "execution_count": 39,
   "metadata": {
    "collapsed": false
   },
   "outputs": [],
   "source": [
    "def trainAndTest(rate=0.001, epochs=1700, neurons=7, display=False):    \n",
    "    start = time()\n",
    "\n",
    "    # Parameters\n",
    "    global training_rate, training_epochs, n_hidden_1\n",
    "    learning_rate = rate\n",
    "    training_epochs = epochs\n",
    "\n",
    "    # Network Parameters\n",
    "    n_hidden_1 = neurons # 1st layer number of neurons\n",
    "    # n_hidden_2 = 7 # 2nd layer number of neurons\n",
    "    # n_hidden_3 = 30 # 3rd layer\n",
    "\n",
    "    train_avg, test_avg = 0, 0\n",
    "    n = 10\n",
    "    for i in range(1,n+1):\n",
    "        if display:\n",
    "            print(\"Running for Person id\",i)\n",
    "        temp = ('0'+str(i))[-2:]\n",
    "        train_score, test_score = evaluate(train_path.replace('01',temp), test_path.replace('01',temp))\n",
    "        train_avg += train_score\n",
    "        test_avg += test_score\n",
    "    if display:\n",
    "#         print(\"Number of neurons in Hidden layer-\", n_hidden_1)\n",
    "        print(\"Training average-\", train_avg/n)\n",
    "        print(\"Testing average-\", test_avg/n)\n",
    "        print(\"Time taken-\", time()-start)\n",
    "    return train_avg/n, test_avg/n, (time()-start)/n"
   ]
  },
  {
   "cell_type": "code",
   "execution_count": 40,
   "metadata": {
    "collapsed": false
   },
   "outputs": [
    {
     "name": "stdout",
     "output_type": "stream",
     "text": [
      "Running for Person id 1\n",
      "Running for Person id 2\n",
      "Running for Person id 3\n",
      "Running for Person id 4\n",
      "Running for Person id 5\n",
      "Running for Person id 6\n",
      "Running for Person id 7\n",
      "Running for Person id 8\n",
      "Running for Person id 9\n",
      "Running for Person id 10\n",
      "Training average- 0.95\n",
      "Testing average- 0.9\n",
      "Time taken- 14.721916198730469\n"
     ]
    },
    {
     "data": {
      "text/plain": [
       "(0.94999999999999996, 0.90000000000000002, 1.472191619873047)"
      ]
     },
     "execution_count": 40,
     "metadata": {},
     "output_type": "execute_result"
    }
   ],
   "source": [
    "trainAndTest(neurons=7, display=True)"
   ]
  },
  {
   "cell_type": "code",
   "execution_count": 41,
   "metadata": {
    "collapsed": false
   },
   "outputs": [
    {
     "name": "stdout",
     "output_type": "stream",
     "text": [
      "Number of neurons in Hidden layer- 1\n",
      "------------------------\n",
      "Number of neurons in Hidden layer- 2\n",
      "------------------------\n",
      "Number of neurons in Hidden layer- 3\n",
      "------------------------\n",
      "Number of neurons in Hidden layer- 4\n",
      "------------------------\n",
      "Number of neurons in Hidden layer- 5\n",
      "------------------------\n",
      "Number of neurons in Hidden layer- 6\n",
      "------------------------\n",
      "Number of neurons in Hidden layer- 7\n",
      "------------------------\n"
     ]
    }
   ],
   "source": [
    "neuron_count = range(1,8)\n",
    "train_avg = []\n",
    "test_avg = []\n",
    "time_taken = []\n",
    "k=1\n",
    "# For each count runs k times and take its average to find average for neurons_count in some range\n",
    "for i in neuron_count:\n",
    "    a,b,c = 0,0,0\n",
    "    print(\"Number of neurons in Hidden layer-\", i)\n",
    "    for j in range(k):\n",
    "        p,q,r = trainAndTest(neurons=i)\n",
    "        a+=p\n",
    "        b+=q\n",
    "        c+=r\n",
    "    a/=k\n",
    "    b/=k\n",
    "    c/=k\n",
    "#     print(\"Training average-\", a)\n",
    "#     print(\"Testing average -\", b)\n",
    "#     print(\"Time taken      -\", c)\n",
    "    train_avg.append(a)\n",
    "    test_avg.append(b)\n",
    "    time_taken.append(c)\n",
    "    print('------------------------')"
   ]
  },
  {
   "cell_type": "markdown",
   "metadata": {},
   "source": [
    "#### Now let's plot the average accuracies and time taken with respect to number of neurons"
   ]
  },
  {
   "cell_type": "code",
   "execution_count": 19,
   "metadata": {
    "collapsed": false
   },
   "outputs": [
    {
     "data": {
      "text/html": [
       "<script>requirejs.config({paths: { 'plotly': ['https://cdn.plot.ly/plotly-latest.min']},});if(!window.Plotly) {{require(['plotly'],function(plotly) {window.Plotly=plotly;});}}</script>"
      ],
      "text/vnd.plotly.v1+html": [
       "<script>requirejs.config({paths: { 'plotly': ['https://cdn.plot.ly/plotly-latest.min']},});if(!window.Plotly) {{require(['plotly'],function(plotly) {window.Plotly=plotly;});}}</script>"
      ]
     },
     "metadata": {},
     "output_type": "display_data"
    }
   ],
   "source": [
    "from plotly.offline import download_plotlyjs, init_notebook_mode, plot, iplot\n",
    "init_notebook_mode(connected=True)"
   ]
  },
  {
   "cell_type": "code",
   "execution_count": 20,
   "metadata": {
    "collapsed": false
   },
   "outputs": [
    {
     "data": {
      "application/vnd.plotly.v1+json": {
       "data": [
        {
         "line": {
          "shape": "spline",
          "smoothing": 0.7,
          "width": 2
         },
         "name": "Training",
         "x": [
          1,
          2,
          3,
          4,
          5,
          6,
          7
         ],
         "y": [
          0.95,
          0.95,
          0.95,
          0.95,
          0.95,
          0.95,
          0.95
         ]
        },
        {
         "line": {
          "shape": "spline",
          "smoothing": 0.7,
          "width": 2
         },
         "name": "Testing",
         "x": [
          1,
          2,
          3,
          4,
          5,
          6,
          7
         ],
         "y": [
          0.925,
          0.925,
          0.925,
          0.925,
          0.925,
          0.925,
          0.925
         ]
        }
       ],
       "layout": {
        "title": "Variation of accuracy with number of neurons",
        "xaxis": {
         "title": "Number of neurons"
        },
        "yaxis": {
         "title": "Accuracy"
        }
       }
      },
      "text/html": [
       "<div id=\"e777c473-0f8d-4200-a2b3-70531b21796d\" style=\"height: 525px; width: 100%;\" class=\"plotly-graph-div\"></div><script type=\"text/javascript\">require([\"plotly\"], function(Plotly) { window.PLOTLYENV=window.PLOTLYENV || {};window.PLOTLYENV.BASE_URL=\"https://plot.ly\";Plotly.newPlot(\"e777c473-0f8d-4200-a2b3-70531b21796d\", [{\"line\": {\"width\": 2, \"shape\": \"spline\", \"smoothing\": 0.7}, \"name\": \"Training\", \"x\": [1, 2, 3, 4, 5, 6, 7], \"y\": [0.95, 0.95, 0.95, 0.95, 0.95, 0.95, 0.95]}, {\"line\": {\"width\": 2, \"shape\": \"spline\", \"smoothing\": 0.7}, \"name\": \"Testing\", \"x\": [1, 2, 3, 4, 5, 6, 7], \"y\": [0.925, 0.925, 0.925, 0.925, 0.925, 0.925, 0.925]}], {\"title\": \"Variation of accuracy with number of neurons\", \"xaxis\": {\"title\": \"Number of neurons\"}, \"yaxis\": {\"title\": \"Accuracy\"}}, {\"showLink\": true, \"linkText\": \"Export to plot.ly\"})});</script>"
      ],
      "text/vnd.plotly.v1+html": [
       "<div id=\"e777c473-0f8d-4200-a2b3-70531b21796d\" style=\"height: 525px; width: 100%;\" class=\"plotly-graph-div\"></div><script type=\"text/javascript\">require([\"plotly\"], function(Plotly) { window.PLOTLYENV=window.PLOTLYENV || {};window.PLOTLYENV.BASE_URL=\"https://plot.ly\";Plotly.newPlot(\"e777c473-0f8d-4200-a2b3-70531b21796d\", [{\"line\": {\"width\": 2, \"shape\": \"spline\", \"smoothing\": 0.7}, \"name\": \"Training\", \"x\": [1, 2, 3, 4, 5, 6, 7], \"y\": [0.95, 0.95, 0.95, 0.95, 0.95, 0.95, 0.95]}, {\"line\": {\"width\": 2, \"shape\": \"spline\", \"smoothing\": 0.7}, \"name\": \"Testing\", \"x\": [1, 2, 3, 4, 5, 6, 7], \"y\": [0.925, 0.925, 0.925, 0.925, 0.925, 0.925, 0.925]}], {\"title\": \"Variation of accuracy with number of neurons\", \"xaxis\": {\"title\": \"Number of neurons\"}, \"yaxis\": {\"title\": \"Accuracy\"}}, {\"showLink\": true, \"linkText\": \"Export to plot.ly\"})});</script>"
      ]
     },
     "metadata": {},
     "output_type": "display_data"
    }
   ],
   "source": [
    "num_neurons = list(neuron_count)\n",
    "Y2=[train_avg, test_avg, time_taken]\n",
    "import _pickle as pickle\n",
    "data = {'train':train_avg, 'test':test_avg,'time':time_taken}\n",
    "with open('changingNeurons2.p', 'wb') as hand:\n",
    "    pickle.dump(data, hand)\n",
    "names = ['Training', 'Testing', 'Time for 10 people']\n",
    "data = [dict(\n",
    "        line=dict(width=2, shape='spline', smoothing=0.7),\n",
    "        name = names[i],\n",
    "        x = num_neurons,\n",
    "        y = Y2[i]) for i in range(2)]   # if you want to plot time too put 3 else put 2\n",
    "\n",
    "\n",
    "\n",
    "layout = dict(title=\"Variation of accuracy with number of neurons\",\n",
    "                xaxis=dict(title='Number of neurons'),\n",
    "                yaxis=dict(title='Accuracy'))\n",
    "fig = dict(data=data, layout=layout)\n",
    "\n",
    "iplot(fig)"
   ]
  }
 ],
 "metadata": {
  "kernelspec": {
   "display_name": "Python 3",
   "language": "python",
   "name": "python3"
  },
  "language_info": {
   "codemirror_mode": {
    "name": "ipython",
    "version": 3
   },
   "file_extension": ".py",
   "mimetype": "text/x-python",
   "name": "python",
   "nbconvert_exporter": "python",
   "pygments_lexer": "ipython3",
   "version": "3.6.0"
  }
 },
 "nbformat": 4,
 "nbformat_minor": 2
}
